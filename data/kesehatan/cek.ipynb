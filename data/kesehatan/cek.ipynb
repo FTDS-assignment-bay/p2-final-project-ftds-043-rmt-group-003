{
 "cells": [
  {
   "cell_type": "code",
   "execution_count": 11,
   "id": "6efd2895",
   "metadata": {},
   "outputs": [],
   "source": [
    "import pandas as pd"
   ]
  },
  {
   "cell_type": "code",
   "execution_count": 14,
   "id": "39c81c3d",
   "metadata": {},
   "outputs": [
    {
     "data": {
      "text/html": [
       "<div>\n",
       "<style scoped>\n",
       "    .dataframe tbody tr th:only-of-type {\n",
       "        vertical-align: middle;\n",
       "    }\n",
       "\n",
       "    .dataframe tbody tr th {\n",
       "        vertical-align: top;\n",
       "    }\n",
       "\n",
       "    .dataframe thead th {\n",
       "        text-align: right;\n",
       "    }\n",
       "</style>\n",
       "<table border=\"1\" class=\"dataframe\">\n",
       "  <thead>\n",
       "    <tr style=\"text-align: right;\">\n",
       "      <th></th>\n",
       "      <th>category</th>\n",
       "      <th>subcategory</th>\n",
       "      <th>question</th>\n",
       "      <th>answer</th>\n",
       "    </tr>\n",
       "  </thead>\n",
       "  <tbody>\n",
       "    <tr>\n",
       "      <th>0</th>\n",
       "      <td>PROFIL</td>\n",
       "      <td>VISI DAN MISI</td>\n",
       "      <td>Apa Visi BPJS Kesehatan ?</td>\n",
       "      <td>Menjadi badan penyelenggara yang dinamis, akun...</td>\n",
       "    </tr>\n",
       "    <tr>\n",
       "      <th>1</th>\n",
       "      <td>PROFIL</td>\n",
       "      <td>VISI DAN MISI</td>\n",
       "      <td>Apa Misi BPJS Kesehatan ?</td>\n",
       "      <td>1. Meningkatkan kualitas layanan kepada pesert...</td>\n",
       "    </tr>\n",
       "    <tr>\n",
       "      <th>2</th>\n",
       "      <td>PROFIL</td>\n",
       "      <td>STRUKTUR ORGANISASI</td>\n",
       "      <td>Bagaimana struktur organisasi BPJS Kesehatan ?</td>\n",
       "      <td>Anda dapat melihat struktur organisasi dengan ...</td>\n",
       "    </tr>\n",
       "    <tr>\n",
       "      <th>3</th>\n",
       "      <td>PROFIL</td>\n",
       "      <td>SEJARAH</td>\n",
       "      <td>Kapan BPJS Kesehatan resmi beroperasi ?</td>\n",
       "      <td>BPJS Kesehatan mulai resmi beroperasi pada 1 J...</td>\n",
       "    </tr>\n",
       "    <tr>\n",
       "      <th>4</th>\n",
       "      <td>PROFIL</td>\n",
       "      <td>SEJARAH</td>\n",
       "      <td>Apa dasar pendirian BPJS Kesehatan ?</td>\n",
       "      <td>Dasar pendirian beroperasinya BPJS Kesehatan a...</td>\n",
       "    </tr>\n",
       "  </tbody>\n",
       "</table>\n",
       "</div>"
      ],
      "text/plain": [
       "  category          subcategory  \\\n",
       "0   PROFIL        VISI DAN MISI   \n",
       "1   PROFIL        VISI DAN MISI   \n",
       "2   PROFIL  STRUKTUR ORGANISASI   \n",
       "3   PROFIL              SEJARAH   \n",
       "4   PROFIL              SEJARAH   \n",
       "\n",
       "                                         question  \\\n",
       "0                       Apa Visi BPJS Kesehatan ?   \n",
       "1                       Apa Misi BPJS Kesehatan ?   \n",
       "2  Bagaimana struktur organisasi BPJS Kesehatan ?   \n",
       "3         Kapan BPJS Kesehatan resmi beroperasi ?   \n",
       "4            Apa dasar pendirian BPJS Kesehatan ?   \n",
       "\n",
       "                                              answer  \n",
       "0  Menjadi badan penyelenggara yang dinamis, akun...  \n",
       "1  1. Meningkatkan kualitas layanan kepada pesert...  \n",
       "2  Anda dapat melihat struktur organisasi dengan ...  \n",
       "3  BPJS Kesehatan mulai resmi beroperasi pada 1 J...  \n",
       "4  Dasar pendirian beroperasinya BPJS Kesehatan a...  "
      ]
     },
     "execution_count": 14,
     "metadata": {},
     "output_type": "execute_result"
    }
   ],
   "source": [
    "df = pd.read_excel('kesehatan_faq.xlsx')\n",
    "df.head()"
   ]
  },
  {
   "cell_type": "code",
   "execution_count": null,
   "id": "13908610",
   "metadata": {},
   "outputs": [],
   "source": [
    "for col in df.columns:\n",
    "    df[col] = df[col].str.strip() # Hapus whitespace\n",
    "    df[col] = df[col].str.replace('\\t', ' ', regex=False) # Ganti tab dengan spasi\n",
    "    df[col] = df[col].str.replace('\\n', ', ', regex=False) # Ganti new line dengan spasi\n",
    "    df[col] = df[col].str.replace(r'\\s+', ' ', regex=True) # Ganti multiple spaces dengan single space\n",
    "\n"
   ]
  }
 ],
 "metadata": {
  "kernelspec": {
   "display_name": "h8_env",
   "language": "python",
   "name": "python3"
  },
  "language_info": {
   "codemirror_mode": {
    "name": "ipython",
    "version": 3
   },
   "file_extension": ".py",
   "mimetype": "text/x-python",
   "name": "python",
   "nbconvert_exporter": "python",
   "pygments_lexer": "ipython3",
   "version": "3.9.23"
  }
 },
 "nbformat": 4,
 "nbformat_minor": 5
}
